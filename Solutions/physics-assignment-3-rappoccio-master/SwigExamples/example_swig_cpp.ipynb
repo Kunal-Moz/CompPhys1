{
 "cells": [
  {
   "cell_type": "markdown",
   "metadata": {},
   "source": [
    "# Example of using C++ code in python and Jupyter with SWIG\n",
    "\n",
    "It is also possible to use our C++ code from python and Jupyter. This involves using the [SWIG](http://www.swig.org) package. You can download it [here](http://www.swig.org/survey.html) and then install following instructions [here](http://www.swig.org/Doc3.0/Preface.html#Preface_installation). If you are successful, you should be able to open a new terminal and type ```which swig``` to obtain the path of swig. \n",
    "\n",
    "The idea is then to use SWIG to automatically generate python-readable code from our C++/C libraries. There is a lot to learn in this regard, so we will try first with a simple example that illustrates some concepts we will need, such as using STL libraries and C++11 compilation. \n"
   ]
  },
  {
   "cell_type": "markdown",
   "metadata": {},
   "source": [
    "\n",
    "## Step 1 : Look at C++ files\n",
    "\n",
    "You should be able to see these two simple C++ files: \n"
   ]
  },
  {
   "cell_type": "code",
   "execution_count": null,
   "metadata": {},
   "outputs": [],
   "source": [
    "! cat swig_example/example.hpp swig_example/example.cpp "
   ]
  },
  {
   "cell_type": "markdown",
   "metadata": {},
   "source": [
    "\n",
    "\n",
    "## Step 2 : Look at SWIG interface file\n",
    "\n",
    "The magic of SWIG is to create wrapper C++ functions that use the \"cython\" interface. You will see an \"interface\" file for SWIG :"
   ]
  },
  {
   "cell_type": "code",
   "execution_count": null,
   "metadata": {},
   "outputs": [],
   "source": [
    "! cat swig_example/example.i "
   ]
  },
  {
   "cell_type": "markdown",
   "metadata": {},
   "source": [
    "## Step 3 : Look at SWIG setup file\n",
    "\n",
    "This tells SWIG to generate a file called ```example_wrap.cc``` using source from ```example.cpp``` with C++11. \n"
   ]
  },
  {
   "cell_type": "code",
   "execution_count": null,
   "metadata": {},
   "outputs": [],
   "source": [
    "! cat swig_example/setup.py"
   ]
  },
  {
   "cell_type": "markdown",
   "metadata": {},
   "source": [
    "Now create the interface using the interface file. This will create two files, ```example_wrap.cxx``` and ```example.py```. They are not intended to be human-readable, so we don't need to look into them. "
   ]
  },
  {
   "cell_type": "markdown",
   "metadata": {},
   "source": [
    "## Step 4: Create SWIG interface from file"
   ]
  },
  {
   "cell_type": "code",
   "execution_count": null,
   "metadata": {},
   "outputs": [],
   "source": [
    "! swig -c++ -python swig_example/example.i "
   ]
  },
  {
   "cell_type": "markdown",
   "metadata": {},
   "source": [
    "## Step 5 : compile C++ and interface\n",
    "\n",
    "This will compile our file ```example.cpp``` along with ```example_wrap.cxx``` using the rules we set (for instance, using the C++11 compiler). \n",
    "\n",
    "We are now free to use this in python!"
   ]
  },
  {
   "cell_type": "code",
   "execution_count": null,
   "metadata": {},
   "outputs": [],
   "source": [
    "! python swig_example/setup.py build_ext --inplace"
   ]
  },
  {
   "cell_type": "markdown",
   "metadata": {},
   "source": [
    "\n",
    "## Step 6: Make profit: \n",
    "\n",
    "First we import the path correctly. "
   ]
  },
  {
   "cell_type": "code",
   "execution_count": null,
   "metadata": {},
   "outputs": [],
   "source": [
    "import sys\n",
    "import os\n",
    "\n",
    "sys.path.append( os.path.abspath(\"swig_example\") )\n",
    "\n",
    "print (sys.path)\n",
    "\n",
    "\n"
   ]
  },
  {
   "cell_type": "markdown",
   "metadata": {},
   "source": [
    "Next we import our actual function from \"example.py\""
   ]
  },
  {
   "cell_type": "code",
   "execution_count": null,
   "metadata": {},
   "outputs": [],
   "source": [
    "from example import *\n"
   ]
  },
  {
   "cell_type": "markdown",
   "metadata": {},
   "source": [
    "And finally, we can use our code: "
   ]
  },
  {
   "cell_type": "code",
   "execution_count": null,
   "metadata": {},
   "outputs": [],
   "source": [
    "a = vector_int([1,2,3])\n",
    "x = sum_int(a)\n",
    "print (x)\n"
   ]
  },
  {
   "cell_type": "markdown",
   "metadata": {},
   "source": [
    "# Success!"
   ]
  },
  {
   "cell_type": "code",
   "execution_count": null,
   "metadata": {},
   "outputs": [],
   "source": []
  }
 ],
 "metadata": {
  "kernelspec": {
   "display_name": "Python 3",
   "language": "python",
   "name": "python3"
  },
  "language_info": {
   "codemirror_mode": {
    "name": "ipython",
    "version": 3
   },
   "file_extension": ".py",
   "mimetype": "text/x-python",
   "name": "python",
   "nbconvert_exporter": "python",
   "pygments_lexer": "ipython3",
   "version": "3.7.4rc2"
  }
 },
 "nbformat": 4,
 "nbformat_minor": 2
}
