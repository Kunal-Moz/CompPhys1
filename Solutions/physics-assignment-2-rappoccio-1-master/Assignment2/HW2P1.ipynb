{
 "cells": [
  {
   "cell_type": "markdown",
   "metadata": {},
   "source": [
    "# Compute energy levels of Helium Atom with Gaussian Linear Combination of Atomic Orbitals \n",
    "\n",
    "We expect to numerically approximate the energy evels of the Helium atom with a linear combination of atomic orbitals. In this case, we use Gaussian eigenfunctions to expand the wavefunction: \n",
    "\n",
    "\\begin{equation}\n",
    "|\\psi> = \\sum_i d_i e^{\\alpha_i (r_1^2 + r_2^2)}\n",
    "\\end{equation}\n",
    "\n",
    "We then adjust the values of $d_i$ and $\\alpha_i$ such that they minimize the operator $S / (T + V)$. We will choose the BFGS algorithm to accomplish the minimization. So, we need only compute the matrix elements of $S,T,V$. To calculate those integrals, we have to calculate:\n",
    "\n",
    "$S_{ij} <\\psi_i|\\psi_j>$\n",
    "\n",
    "$T_{ij} <\\psi_i|T|\\psi_j>$\n",
    "\n",
    "$V_{ij} <\\psi_i|V|\\psi_j>$\n",
    "\n",
    "\n",
    "Each of these integrals therefore looks like:\n",
    "\n",
    "\\begin{equation}\n",
    "\\int_{r_1} \\int_{r_2} d^3 r_1 d^3 r_2 e^{-\\alpha_i (r_1^2 + r_2^2)} F(r_1,r_2) e^{-\\alpha_j (r_1^2 + r_2^2)}\n",
    "\\end{equation}\n",
    "\n",
    "\n",
    "where $F$ is either \"1\" (the identity operator), $T$, or $V$, and the 3-d differential element is $d^3r = r^2 \\cos(\\theta) d\\theta d\\phi$. Note: all of the $\\phi$ integrals are symmetric and only give factors of $2\\pi$. \n",
    "\n",
    "For the Helium atom, we have\n",
    "\n",
    "$T = -\\frac{1}{2}\\nabla_1^2 -\\frac{1}{2}\\nabla_2^2$\n",
    "\n",
    "$V = -\\frac{2}{r_1}-\\frac{2}{r_2} + \\frac{1}{r_{12}}$\n",
    "\n",
    "Luckily, most of these integrals are not difficult because they factorize into $r_1$ and $r_2$ separately.\n",
    "\n",
    "\n",
    "## S matrix elements\n",
    "\n",
    "\\begin{equation}\n",
    "S_{ij} = \\int_{r_1} d^3 r_1 e^{-(\\alpha_i+\\alpha_j)r_1^2} \\int_{r_2} d^3 r_2 e^{-(\\alpha_i+\\alpha_j)r_1^2}\n",
    "\\end{equation}\n",
    "\n",
    "\\begin{equation}\n",
    "S_{ij} = \\frac{\\pi^3}{(\\alpha_i + \\alpha_j)^3}\n",
    "\\end{equation}\n",
    "\n",
    "\n",
    "\n",
    "## T matrix elements\n",
    "In 3d spherical coordinates ignoring variations in $\\theta$ and $\\phi$, $\\nabla^2 = \\frac{1}{r^2} \\frac{\\partial}{\\partial r}\\left(r^2 \\frac{\\partial}{\\partial r}\\right)$, this also factorizes into two separate $r_1$ and $r_2$ integrals, so simplifying (you can use mathematica for this if you want) we get:\n",
    "\n",
    "\\begin{equation}\n",
    "T_{ij} = -\\frac{1}{2}\\int_{r_1} \\int_{r_2} d^3 r_1 d^3 r_2 e^{-\\alpha_i (r_1^2 + r_2^2)} (\\nabla_1^2 + \\nabla_2^2) e^{-\\alpha_j (r_1^2 + r_2^2)}\n",
    "\\end{equation}\n",
    "\n",
    "\n",
    "\n",
    "\\begin{equation}\n",
    "T_{ij} = \\frac{6\\alpha_i\\alpha_j\\pi^3}{(\\alpha_i + \\alpha_j)^4}\n",
    "\\end{equation}\n",
    "\n",
    "\n",
    "## V matrix elements\n",
    "\n",
    "The potential has three terms ($2/r_1, 2/r_2, 1/r_{12}$). The first two are straightforward and also factorize into two separate $r_1$ and $r_2$ integrals. The third requires an integral also over $\\cos(\\theta)$ so that piece becomes\n",
    "\n",
    "\\begin{equation}\n",
    "\\int_{r_1} \\int_{r_2} r_1^2 r_2^2 dr_1 dr_2 \\sin(\\theta_{12}) d\\theta_{12} \\frac{e^{-\\alpha_i (r_1^2 + r_2^2)} e^{-\\alpha_j (r_1^2 + r_2^2)} }{\\sqrt{r_1^2 + r_2^2 - 2r_1r_2\\cos(\\theta_{12})}}\n",
    "\\end{equation}\n",
    "\n",
    "Adding all of the pieces together we would get\n",
    "\n",
    "\\begin{equation}\n",
    "V_{ij} = \\frac{-(8pi^{5/2})}{(\\alpha_i + \\alpha_j)^{5/2}} + \\frac{\\sqrt{2} \\pi^{5/2}}{(\\alpha_i + \\alpha_j)^{5/2}}\n",
    "\\end{equation}\n",
    "\n",
    "\n",
    "# Code\n",
    "\n",
    "The code is very similar to the case for Hydrogen, but we need to adjust the `S_ij`, `T_ij`, and `V_ij` methods to input two indices `alpha_i` and `alpha_j`. We store these values in an array `alpha`, and initialize all of the pieces to have `d_i=1.0` and `alpha_i=0.5`, and pick 3 Gaussians to sum. \n"
   ]
  },
  {
   "cell_type": "markdown",
   "metadata": {},
   "source": [
    "### Import path and add our software"
   ]
  },
  {
   "cell_type": "code",
   "execution_count": 1,
   "metadata": {},
   "outputs": [],
   "source": [
    "import os\n",
    "import sys\n",
    "import numpy as np\n",
    "import scipy.optimize"
   ]
  },
  {
   "cell_type": "markdown",
   "metadata": {},
   "source": [
    "### Add the cpt BFGS minimization, initialize constants for 2 Gaussians"
   ]
  },
  {
   "cell_type": "code",
   "execution_count": 2,
   "metadata": {},
   "outputs": [],
   "source": [
    "\n",
    "# physical constants\n",
    "hbar = 1.0                  # Planck's constant / 2pi\n",
    "m = 1.0                     # electron mass\n",
    "e = 1.0                     # proton charge\n",
    "\n",
    "# LCAO variational wave function\n",
    "# psi = sum( d_i g(alpha_i, r) ) for i = 0, 1, 2, ...\n",
    "# assume d_0 = 1 and vary alpha_0, d_1, alpha_1, d_2, alpha_2, ...\n",
    "# vector of variational parameters\n",
    "p = [ 1.0, 1.0, 0.5, 1.0, 0.5, 1.0, 0.5 ]       # initial guess for [ alpha_0, d_1, alpha_1 ]\n",
    "N = int( (len(p) + 1) / 2 ) # number of Gaussians\n",
    "\n",
    "accuracy = 1.0e-6           # desired accuracy for numerical operations\n"
   ]
  },
  {
   "cell_type": "markdown",
   "metadata": {},
   "source": [
    "### Define the g function, matrix elements, minimization function and derivative"
   ]
  },
  {
   "cell_type": "code",
   "execution_count": 3,
   "metadata": {},
   "outputs": [],
   "source": [
    "class LCAOGauss:\n",
    "    def __init__(self, p):\n",
    "        self.d = p[0::2]\n",
    "        self.alpha = p[1::2]        \n",
    "        self.ii = np.arange(len(self.alpha))\n",
    "        self.jj = np.arange(len(self.alpha))\n",
    "        self.i, self.j = np.meshgrid(self.ii,self.jj)        \n",
    "\n",
    "    def Sij(self):  # matrix elements of S\n",
    "        return np.pi**3.0/(self.alpha[self.i] + self.alpha[self.j])**3.0\n",
    "\n",
    "    def Tij(self):  # matrix elements of T\n",
    "        return (6.0*self.alpha[self.i]*self.alpha[self.j]*hbar**2.0*np.pi**3.0)/((self.alpha[self.i] + self.alpha[self.j])**4.0*m)\n",
    "\n",
    "    def Vij(self):  # matrix elements of V\n",
    "        return -(8.0*e**2.0*np.pi**2.5)/(self.alpha[self.i] + self.alpha[self.j])**2.5 + (np.sqrt(2.0)*e**2.0*np.pi**2.5)/(self.alpha[self.i] + self.alpha[self.j])**2.5\n",
    "\n",
    "    def E(self):            # energy as function of N alpha_i and d_i\n",
    "        S = H = 0.0        \n",
    "        fac = (self.alpha[self.i] * self.alpha[self.j])**(3.0/4.0)* self.d[self.i] * self.d[self.j]\n",
    "        Hvals = fac * (self.Tij() + self.Vij() )\n",
    "        Svals = fac * self.Sij()\n",
    "        H = np.sum(Hvals)\n",
    "        S = np.sum(Svals)\n",
    "        return H / S\n",
    "\n",
    "    def __call__(self, p):                # function for BFGS minimization\n",
    "        # assume p = [ d0, alpha_0, d_1, alpha_1, d_2, alpha_2, ... ]\n",
    "        self.alpha = np.where( p[1::2] > accuracy, p[1::2], accuracy)\n",
    "        self.d = p[::2]    \n",
    "        e = self.E()\n",
    "        return e\n",
    "\n",
    "    def norm(self):                # norm of LCAO\n",
    "        Sijvals = self.Sij() * self.d[self.i] * self.d[self.j]\n",
    "        return np.linalg.norm(Sijvals)\n",
    "    "
   ]
  },
  {
   "cell_type": "markdown",
   "metadata": {},
   "source": [
    "### Drive the simulation"
   ]
  },
  {
   "cell_type": "code",
   "execution_count": 4,
   "metadata": {},
   "outputs": [
    {
     "name": "stdout",
     "output_type": "stream",
     "text": [
      " Variational method for Helium using Gaussian LCAO\n",
      " Minimize <psi|H|psi>/<psi|psi> using BFGS algorithm\n",
      "Energy level =  -2.47\n",
      "Eigenfunction expansion:\n",
      "  i   alpha       d\n",
      "  0 0.55235 0.03818\n",
      "  1 2.08719 0.02296\n",
      "  2 2.08720 0.02296\n"
     ]
    }
   ],
   "source": [
    "\n",
    "print(\" Variational method for Helium using Gaussian LCAO\")\n",
    "print(\" Minimize <psi|H|psi>/<psi|psi> using BFGS algorithm\")\n",
    "lcao = LCAOGauss(p)\n",
    "res = scipy.optimize.minimize(lcao, p, tol=accuracy)\n",
    "alpha = res.x[1::2]\n",
    "d = res.x[::2]\n",
    "A = lcao.norm()\n",
    "d /= A\n",
    "\n",
    "print(\"Energy level = %6.2f\" % (res.fun))\n",
    "print(\"Eigenfunction expansion:\")\n",
    "print( \"%3s %7s %7s\" % ( 'i', 'alpha', 'd') )\n",
    "for i in range(len(alpha)):\n",
    "    print ( \"%3d %6.5f %6.5f\" % (i, alpha[i], d[i]) )\n"
   ]
  },
  {
   "cell_type": "markdown",
   "metadata": {},
   "source": [
    "## Results \n",
    "\n",
    "We can see that the energy level we compute is around -2.5, which is in agreement with our expectations. "
   ]
  },
  {
   "cell_type": "code",
   "execution_count": null,
   "metadata": {},
   "outputs": [],
   "source": []
  }
 ],
 "metadata": {
  "kernelspec": {
   "display_name": "Python 3",
   "language": "python",
   "name": "python3"
  },
  "language_info": {
   "codemirror_mode": {
    "name": "ipython",
    "version": 3
   },
   "file_extension": ".py",
   "mimetype": "text/x-python",
   "name": "python",
   "nbconvert_exporter": "python",
   "pygments_lexer": "ipython3",
   "version": "3.7.5rc1"
  }
 },
 "nbformat": 4,
 "nbformat_minor": 2
}
