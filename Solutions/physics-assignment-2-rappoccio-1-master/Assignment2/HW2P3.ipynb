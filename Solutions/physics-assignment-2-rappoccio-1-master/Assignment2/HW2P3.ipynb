{
 "cells": [
  {
   "cell_type": "markdown",
   "metadata": {},
   "source": [
    "# Calculation of the differential cross section for $pp \\rightarrow Z\\rightarrow e^+e^-$ at the LHC with $\\sqrt{s} = 7$ TeV\n",
    "\n",
    "We will now use the code provided in Lecture 40 to weight the parton-level cross section for $q\\overline{q} \\rightarrow Z \\rightarrow e^+e^-$ by the MSTW PDF sets at $\\sqrt{s} = 7$ TeV for a $pp$ collider. In this case, the protons have equal and opposite momenta:\n",
    "\n",
    "$p_1 = (0,0,-\\sqrt{s}/2,\\sqrt{s}/2)$\n",
    "\n",
    "$p_2 = (0,0,\\sqrt{s}/2,\\sqrt{s}/2)$\n",
    "\n",
    "Each quark in the proton will have momenta\n",
    "\n",
    "$p_1 = (0,0,-x_1\\sqrt{s}/2,x_1\\sqrt{s}/2)$\n",
    "\n",
    "$p_2 = (0,0,x_2\\sqrt{s}/2,x_2\\sqrt{s}/2)$\n",
    "\n",
    "where $x_1$ and $x_2$ are the momentum fractions of the quark.\n",
    "\n",
    "This calculation will involve the calculation of the integral over all possible momentum fractions of the quarks ($0\\rightarrow 1$):\n",
    "\n",
    "\\begin{equation}\n",
    "\\frac{d\\sigma}{d \\cos (\\theta)} = \\sum_{a_1,a_2} \\int_0^1 dx_1 dx_2 f_{a_1}(x_1,M^2)f_{a_2}(x_2, M^2) E_Q \\frac{d\\sigma_{a_1,a_2}}{d^3 Q}(x_1 P_1, x_2 P_2, M^2)\n",
    "\\end{equation}\n",
    "\n",
    "We choose $M^2 = 100$ GeV, and we loop over quark species $a_i = 1,2,3$ where 1,2,3 are the ID numbers for down, up, and strange quarks, respectively. The functions $f_{a_i}$ are the parton distribution functions from the MSTW PDF sets and are evaluated at momentum fractions $x_i$. \n",
    "\n",
    "My strategy is to write the code in `C++` and use `VEGAS` to do the integration, which can be done in `python`. The technical trick is to create a class with an `operator()` method (i.e. a functor) that can implement the function call for each value of $x_1$ and $x_2$. Remember, however, that `VEGAS` expects a signature like\n",
    "\n",
    "```\n",
    "double ClassName::operator()( std::vector<double> const & x)\n",
    "```\n",
    "\n",
    "so we have to pass our values of $x_1$ and $x_2$ appropriately. \n",
    "As such, the core of this code is implemented in [CrossSection.cpp](CrossSection.cpp):\n",
    "\n",
    "```\n",
    "double dSigmaDOmega_PP::operator()( std::vector<double> const & x )\n",
    "{\n",
    "  double pdf1 = pdf_.parton( flavor_, x[0], q_); \n",
    "  double pdf2 = pdf_.parton(-flavor_, x[1], q_); \n",
    "  \n",
    "  Particle q_i      ( LorentzVector(0,0, e_com_*x[0]*0.5, e_com_*x[0]*0.5),  flavor_);\n",
    "  Particle qbar_i   ( LorentzVector(0,0,-e_com_*x[1]*0.5, e_com_*x[1]*0.5), -flavor_);\n",
    "  double e = (q_i.p4() + q_i.p4()).e();\n",
    "  return pdf1*pdf2*e*dSigmaDOmega( q_i, qbar_i, 11, cosTheta_ );    \n",
    "}\n",
    "```\n",
    "\n",
    "\n",
    "The rest of the code is looping over flavors and $\\cos{\\theta}$ values, and letting `VEGAS` run the integration.\n",
    "\n",
    "One important piece is to not let the algorithm sample values too close to $x=0$ because it will introduce numerical instabilities. I pick $0.0001$ as a minimum value, which would correspond to around 0.35 MeV of energy per parton. This is pretty low compared to the mass of the $Z$ boson, which is 91.5 GeV. \n",
    "\n",
    "\n",
    "### VEGAS\n",
    "\n",
    "The `VEGAS` implementation can be used in `python` directly. This involves the setting of several parameters: the limits of integration ($0.0001\\rightarrow 1.0$); the number of iterations to adjust the binning (3-5 is appropriate); and the number of MC steps (50k per integral for the production step is appropriate).\n",
    "\n",
    "\n",
    "## Correct calculation of Cross Section\n",
    "\n",
    "\n",
    "The cross section will therefore need to loop over the appropriate quark species. Remember as in class, there are \"valence\" quarks (that contribute to the quantum numbers of the proton) and \"sea\" quarks (that do not contribute to the quantum numbers of the proton, since they always appear as $q\\overline{q}$ pairs). \n",
    "\n",
    "The valence quarks include two up quarks and one down quark. However, it is important to account also for the \"sea\" quarks. The relevant pieces are:\n",
    "\n",
    "- Up quarks: $u_v + u_s$ combined with $u_s$.\n",
    "- Down quarks: $d_v + d_s$ combined with $d_s$.\n",
    "- Strange quarks: $s_s$ twice. \n",
    "\n",
    "The MSTW PDF sets also provide convenience functions that will account for this, so you can do either:\n",
    "\n",
    "```\n",
    "  double pdf1 = pdf.parton( flavor, x1, q); \n",
    "  double pdf2 = pdf.parton(-flavor, x2, q); \n",
    "```\n",
    "\n",
    "or\n",
    "\n",
    "```\n",
    "    // Assume your quark species is \"type\" and is 1,2, or 3:\n",
    "    pdf->update(x,q);\n",
    "    double upv = pdf->cont.upv;\n",
    "    double dnv = pdf->cont.dnv;\n",
    "    double usea = pdf->cont.usea;\n",
    "    double dsea = pdf->cont.dsea;\n",
    "    double str = pdf->cont.str;\n",
    "    double sbar = pdf->cont.sbar;\n",
    "    double pdf1 = 0.0, pdf2 = 0.0;\n",
    "    if ( type == 1){\n",
    "        pdf1 = (dnv + dsea);\n",
    "        pdf2 = dsea;\n",
    "    } else if ( type == 2 ){\n",
    "        pdf1 = (upv + usea);\n",
    "        pdf2 = usea;\n",
    "    } else if ( type == 3 ){\n",
    "        pdf1 = str;\n",
    "        pdf2 = sbar;\n",
    "    }\n",
    "```\n",
    "\n",
    "\n",
    "## Results\n",
    "\n",
    "The example codes calculate the individual quark species (up,down,strange) separately so you can see the effects. You then add them up remembering that there are twice as many up quarks as down quarks. "
   ]
  },
  {
   "cell_type": "code",
   "execution_count": 1,
   "metadata": {},
   "outputs": [
    {
     "name": "stdout",
     "output_type": "stream",
     "text": [
      "running build_ext\n",
      "building '_qft' extension\n",
      "x86_64-linux-gnu-gcc -pthread -Wno-unused-result -Wsign-compare -DNDEBUG -g -fwrapv -O2 -Wall -g -fstack-protector-strong -Wformat -Werror=format-security -g -fwrapv -O2 -g -fstack-protector-strong -Wformat -Werror=format-security -Wdate-time -D_FORTIFY_SOURCE=2 -fPIC -I/usr/include/python3.7m -c swig/qft_wrap.cxx -o build/temp.linux-x86_64-3.7/swig/qft_wrap.o -I./ -std=c++11 -O3\n",
      "x86_64-linux-gnu-gcc -pthread -Wno-unused-result -Wsign-compare -DNDEBUG -g -fwrapv -O2 -Wall -g -fstack-protector-strong -Wformat -Werror=format-security -g -fwrapv -O2 -g -fstack-protector-strong -Wformat -Werror=format-security -Wdate-time -D_FORTIFY_SOURCE=2 -fPIC -I/usr/include/python3.7m -c LorentzVector.cpp -o build/temp.linux-x86_64-3.7/LorentzVector.o -I./ -std=c++11 -O3\n",
      "x86_64-linux-gnu-gcc -pthread -Wno-unused-result -Wsign-compare -DNDEBUG -g -fwrapv -O2 -Wall -g -fstack-protector-strong -Wformat -Werror=format-security -g -fwrapv -O2 -g -fstack-protector-strong -Wformat -Werror=format-security -Wdate-time -D_FORTIFY_SOURCE=2 -fPIC -I/usr/include/python3.7m -c Particle.cpp -o build/temp.linux-x86_64-3.7/Particle.o -I./ -std=c++11 -O3\n",
      "x86_64-linux-gnu-gcc -pthread -Wno-unused-result -Wsign-compare -DNDEBUG -g -fwrapv -O2 -Wall -g -fstack-protector-strong -Wformat -Werror=format-security -g -fwrapv -O2 -g -fstack-protector-strong -Wformat -Werror=format-security -Wdate-time -D_FORTIFY_SOURCE=2 -fPIC -I/usr/include/python3.7m -c CrossSection.cpp -o build/temp.linux-x86_64-3.7/CrossSection.o -I./ -std=c++11 -O3\n",
      "x86_64-linux-gnu-gcc -pthread -Wno-unused-result -Wsign-compare -DNDEBUG -g -fwrapv -O2 -Wall -g -fstack-protector-strong -Wformat -Werror=format-security -g -fwrapv -O2 -g -fstack-protector-strong -Wformat -Werror=format-security -Wdate-time -D_FORTIFY_SOURCE=2 -fPIC -I/usr/include/python3.7m -c mstwpdf.cpp -o build/temp.linux-x86_64-3.7/mstwpdf.o -I./ -std=c++11 -O3\n",
      "x86_64-linux-gnu-g++ -pthread -shared -Wl,-O1 -Wl,-Bsymbolic-functions -Wl,-Bsymbolic-functions -Wl,-z,relro -Wl,-Bsymbolic-functions -Wl,-z,relro -g -fstack-protector-strong -Wformat -Werror=format-security -Wdate-time -D_FORTIFY_SOURCE=2 build/temp.linux-x86_64-3.7/swig/qft_wrap.o build/temp.linux-x86_64-3.7/LorentzVector.o build/temp.linux-x86_64-3.7/Particle.o build/temp.linux-x86_64-3.7/CrossSection.o build/temp.linux-x86_64-3.7/mstwpdf.o -o /results/physics-assignment-2-rappoccio-1/Assignment2/_qft.cpython-37m-x86_64-linux-gnu.so\n"
     ]
    }
   ],
   "source": [
    "! swig -c++ -python swig/qft.i\n",
    "! python swig/setup_qft.py build_ext --inplace"
   ]
  },
  {
   "cell_type": "code",
   "execution_count": 2,
   "metadata": {},
   "outputs": [],
   "source": [
    "import sys\n",
    "import os\n",
    "sys.path.append( os.path.abspath(\"swig\") )\n",
    "import qft\n",
    "import numpy as np\n",
    "import matplotlib.pyplot as plt\n",
    "import vegas"
   ]
  },
  {
   "cell_type": "code",
   "execution_count": 3,
   "metadata": {},
   "outputs": [
    {
     "name": "stdout",
     "output_type": "stream",
     "text": [
      "Total cross section:  2.785449490467623e-15\n"
     ]
    }
   ],
   "source": [
    "\n",
    "\n",
    "regn = [ [0.0001, 1.0], # x1\n",
    "         [0.0001, 1.0]] # x2\n",
    "\n",
    "grid_file_name = \"Grids/mstw2008lo.00.dat\"\n",
    "pdf = qft.c_mstwpdf(grid_file_name)\n",
    "q=100.\n",
    "e_com = 7e9\n",
    "\n",
    "sigma = 0.\n",
    "dcosTheta = 0.05\n",
    "cosThetas = np.arange(-1,1,dcosTheta)\n",
    "\n",
    "ds_dO = np.zeros((3,cosThetas.size))\n",
    "\n",
    "for flavor in [1,2,3]:\n",
    "    for icosTheta,cosTheta in enumerate(cosThetas):    \n",
    "        ds_dO_obj = qft.dSigmaDOmega_PP( e_com, pdf, q, flavor, cosTheta  )\n",
    "        \n",
    "        integ = vegas.Integrator(regn)\n",
    "        # adapt to the integrand; discard results\n",
    "        integ(ds_dO_obj, nitn=5, neval=1000)\n",
    "\n",
    "        # do the final integral\n",
    "        result = integ(ds_dO_obj, nitn=5, neval=50000)\n",
    "        \n",
    "        ds_dO[flavor-1,icosTheta] = result.mean\n",
    "        sigma += result.mean * dcosTheta;\n",
    "        # Produce qqbar --> Z --> e+e-\n",
    "        #print( \"%2d : %6.2f %10.6e\" % (flavor, cosTheta, result.mean))\n",
    "print (\"Total cross section: \", sigma)"
   ]
  },
  {
   "cell_type": "code",
   "execution_count": 4,
   "metadata": {},
   "outputs": [
    {
     "data": {
      "image/png": "[encoded data removed]",
      "text/plain": [
       "<Figure size 432x288 with 1 Axes>"
      ]
     },
     "metadata": {
      "needs_background": "light"
     },
     "output_type": "display_data"
    }
   ],
   "source": [
    "plt.plot(cosThetas, ds_dO.T )\n",
    "plt.legend(['down','up','strange'])\n",
    "plt.xlabel(r'$\\cos{\\theta}$')\n",
    "plt.ylabel(r'Per-quark $d\\sigma / d\\Omega$ (barns)')\n",
    "plt.show()"
   ]
  },
  {
   "cell_type": "code",
   "execution_count": 5,
   "metadata": {
    "scrolled": true
   },
   "outputs": [
    {
     "data": {
      "image/png": "[encoded data removed]",
      "text/plain": [
       "<Figure size 432x288 with 1 Axes>"
      ]
     },
     "metadata": {
      "needs_background": "light"
     },
     "output_type": "display_data"
    }
   ],
   "source": [
    "plt.plot(cosThetas, np.sum(ds_dO,axis=0) )\n",
    "plt.xlabel(r'$\\cos{\\theta}$')\n",
    "plt.ylabel(r'Total $d\\sigma / d\\Omega$ (barns)')\n",
    "plt.show()"
   ]
  },
  {
   "cell_type": "code",
   "execution_count": null,
   "metadata": {},
   "outputs": [],
   "source": []
  }
 ],
 "metadata": {
  "kernelspec": {
   "display_name": "Python 3",
   "language": "python",
   "name": "python3"
  },
  "language_info": {
   "codemirror_mode": {
    "name": "ipython",
    "version": 3
   },
   "file_extension": ".py",
   "mimetype": "text/x-python",
   "name": "python",
   "nbconvert_exporter": "python",
   "pygments_lexer": "ipython3",
   "version": "3.7.3"
  }
 },
 "nbformat": 4,
 "nbformat_minor": 2
}
